{
 "cells": [
  {
   "cell_type": "markdown",
   "metadata": {},
   "source": [
    "# 软件安装简介\n",
    " 庹攸隶 (tuoyl@ihep.ac.cn) \n",
    "\n",
    "@2020 Kunming"
   ]
  },
  {
   "cell_type": "markdown",
   "metadata": {},
   "source": [
    "- # 基础安装\n",
    "    - ## HEAsoft 安装\n",
    "    - ## HXMTsoft 安装\n",
    "    - ## CALDB\n",
    "- # 报错与解决\n"
   ]
  },
  {
   "cell_type": "markdown",
   "metadata": {},
   "source": [
    "==========================================================="
   ]
  },
  {
   "cell_type": "markdown",
   "metadata": {},
   "source": [
    "## 下载软件\n",
    "\n",
    "HEAsoft 软件下载\n",
    "https://heasarc.gsfc.nasa.gov/docs/software/lheasoft/download.html\n",
    "\n",
    "HXMTsoft 软件下载\n",
    "http://www.hxmt.org/software.jhtml"
   ]
  },
  {
   "cell_type": "markdown",
   "metadata": {},
   "source": [
    "### Scientific Linux (Debian-based)\n",
    "```yum -y install sudo\n",
    "sudo yum -y install ncurses-devel\n",
    "sudo yum -y install libcurl-devel\n",
    "sudo yum -y install libXt-devel\n",
    "sudo yum -y install readline7-devel\n",
    "sudo yum -y install gcc gcc-c++\n",
    "sudo yum -y install gcc gcc-gfortran   (or: \"gcc gcc-fortran\")\n",
    "sudo yum -y install perl-devel\n",
    "sudo yum -y install perl-ExtUtils-MakeMaker\n",
    "sudo yum -y install python-devel\n",
    "sudo yum -y install make```\n",
    "\n",
    "#### 安装 Python 模块\n",
    "```\n",
    "curl \"https://bootstrap.pypa.io/get-pip.py\" -o \"get-pip.py\"\n",
    "yum install python-setuptools\n",
    "easy_install pip\n",
    "```"
   ]
  },
  {
   "cell_type": "markdown",
   "metadata": {},
   "source": [
    "### Ubuntu\n",
    "```apt-get -y install sudo\n",
    "     sudo apt-get -y install curl\n",
    "     sudo apt-get -y install libreadline-dev\n",
    "     sudo apt-get -y install libcurl4\n",
    "     sudo apt-get -y install libcurl4-gnutls-dev\n",
    "     sudo apt-get -y install libncurses5-dev\n",
    "     sudo apt-get -y install xorg-dev\n",
    "     sudo apt-get -y install gcc g++ \n",
    "     sudo apt-get -y install gfortran\n",
    "     sudo apt-get -y install perl-modules\n",
    "     sudo apt-get -y install python3-dev```\n",
    "    \n",
    "#### 安装 Python 模块\n",
    "```curl \"https://bootstrap.pypa.io/get-pip.py\" -o \"get-pip.py\"\n",
    "python3 get-pip.py\n",
    "pip install argparse astropy datetime matplotlib numpy scipy xlrd xlwt```"
   ]
  },
  {
   "cell_type": "markdown",
   "metadata": {},
   "source": [
    "## 配置安装\n",
    "\n",
    "```./configure --prefix=/path/to/install/ --with-components='hxmt ftools Xspec timing'\n",
    "make\n",
    "make install```"
   ]
  },
  {
   "cell_type": "markdown",
   "metadata": {},
   "source": [
    "## 设置环境变量\n",
    "CALDB\n",
    "\n",
    "HEADAS\n",
    "\n",
    "CALDBCONFIG\n",
    "\n",
    "CALDBALIAS"
   ]
  },
  {
   "cell_type": "markdown",
   "metadata": {},
   "source": []
  }
 ],
 "metadata": {
  "kernelspec": {
   "display_name": "Python 3",
   "language": "python",
   "name": "python3"
  },
  "language_info": {
   "codemirror_mode": {
    "name": "ipython",
    "version": 3
   },
   "file_extension": ".py",
   "mimetype": "text/x-python",
   "name": "python",
   "nbconvert_exporter": "python",
   "pygments_lexer": "ipython3",
   "version": "3.7.3"
  }
 },
 "nbformat": 4,
 "nbformat_minor": 2
}
