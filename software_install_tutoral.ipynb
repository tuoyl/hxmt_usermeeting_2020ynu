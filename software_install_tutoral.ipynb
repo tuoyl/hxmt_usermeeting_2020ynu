{
 "cells": [
  {
   "cell_type": "markdown",
   "metadata": {},
   "source": [
    "# 软件安装简介\n",
    " 庹攸隶 (tuoyl@ihep.ac.cn) \n",
    "\n",
    "@2020 Kunming"
   ]
  },
  {
   "cell_type": "markdown",
   "metadata": {},
   "source": [
    "- # 基础安装\n",
    "    - ## Unix 软件安装\n",
    "    - ## HXMTsoft 软件安装\n",
    "- # 进阶安装\n",
    "    - ## 与 HEAsoft 合并安装\n",
    "    - ## docker/conda 安装\n",
    "- # 报错与解决\n"
   ]
  }
 ],
 "metadata": {
  "kernelspec": {
   "display_name": "Python 3",
   "language": "python",
   "name": "python3"
  },
  "language_info": {
   "codemirror_mode": {
    "name": "ipython",
    "version": 3
   },
   "file_extension": ".py",
   "mimetype": "text/x-python",
   "name": "python",
   "nbconvert_exporter": "python",
   "pygments_lexer": "ipython3",
   "version": "3.7.3"
  }
 },
 "nbformat": 4,
 "nbformat_minor": 2
}
